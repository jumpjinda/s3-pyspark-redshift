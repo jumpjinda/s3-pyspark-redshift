{
 "cells": [
  {
   "cell_type": "code",
   "execution_count": 43,
   "id": "6579a89b-6c28-488d-ba59-47bedf4b362c",
   "metadata": {
    "execution": {
     "iopub.execute_input": "2022-05-11T12:55:09.264462Z",
     "iopub.status.busy": "2022-05-11T12:55:09.264153Z",
     "iopub.status.idle": "2022-05-11T12:55:09.337879Z",
     "shell.execute_reply": "2022-05-11T12:55:09.336678Z",
     "shell.execute_reply.started": "2022-05-11T12:55:09.264424Z"
    },
    "scrolled": true,
    "tags": []
   },
   "outputs": [],
   "source": [
    "from pyspark.sql import SparkSession\n",
    "from pyspark import SparkConf\n",
    "from pyspark.sql.functions import *\n",
    "\n",
    "import pyspark.sql.functions as F\n",
    "import configparser"
   ]
  },
  {
   "cell_type": "markdown",
   "id": "b1924587",
   "metadata": {},
   "source": [
    "# Read AWS credentials form aws.cfg and store in variables."
   ]
  },
  {
   "cell_type": "code",
   "execution_count": 44,
   "id": "02702747",
   "metadata": {},
   "outputs": [],
   "source": [
    "config = configparser.ConfigParser()\n",
    "config.read_file(open('aws.cfg'))\n",
    "\n",
    "AWS_ACCESS_KEY_ID = config.get('AWS', 'AWS_ACCESS_KEY_ID')\n",
    "AWS_SECRET_ACCESS_KEY = config.get('AWS', 'AWS_SECRET_ACCESS_KEY')"
   ]
  },
  {
   "cell_type": "markdown",
   "id": "54a101f5",
   "metadata": {},
   "source": [
    "# Create SparkSessson"
   ]
  },
  {
   "cell_type": "code",
   "execution_count": 45,
   "id": "dab9adc2",
   "metadata": {},
   "outputs": [],
   "source": [
    "conf = SparkConf() \\\n",
    "        .set('spark.jars.packages', 'org.apache.hadoop:hadoop-aws:3.2.0') \\\n",
    "        .set('spark.hadoop.fs.s3a.aws.credentials.provider', 'org.apache.hadoop.fs.s3a.SimpleAWSCredentialsProvider') \\\n",
    "        .set('spark.hadoop.fs.s3a.access.key', AWS_ACCESS_KEY_ID) \\\n",
    "        .set('spark.hadoop.fs.s3a.secret.key', AWS_SECRET_ACCESS_KEY) \\\n",
    "    \n",
    "\n",
    "spark = SparkSession.builder \\\n",
    "                    .master('local') \\\n",
    "                    .config(conf=conf) \\\n",
    "                    .appName('test-spark') \\\n",
    "                    .getOrCreate()"
   ]
  },
  {
   "cell_type": "markdown",
   "id": "ae108519-4439-4137-9408-8cebde4ae0f1",
   "metadata": {},
   "source": [
    "# Using spark Reads file form S3"
   ]
  },
  {
   "cell_type": "markdown",
   "id": "369eb03c",
   "metadata": {},
   "source": [
    "* Set our S3 bucket"
   ]
  },
  {
   "cell_type": "code",
   "execution_count": 46,
   "id": "84040b31",
   "metadata": {},
   "outputs": [],
   "source": [
    "bucket = 's3-redshift-airflow-project'"
   ]
  },
  {
   "cell_type": "markdown",
   "id": "257c756c",
   "metadata": {},
   "source": [
    "* Set our csv file name"
   ]
  },
  {
   "cell_type": "code",
   "execution_count": 47,
   "id": "2363e50a",
   "metadata": {},
   "outputs": [],
   "source": [
    "file = 'DataEngineer.csv'"
   ]
  },
  {
   "cell_type": "markdown",
   "id": "2a0246eb",
   "metadata": {},
   "source": [
    "* Read file from S3"
   ]
  },
  {
   "cell_type": "code",
   "execution_count": 48,
   "id": "96c7cd81-5285-4a20-9239-69f2d42c6259",
   "metadata": {
    "execution": {
     "iopub.execute_input": "2022-05-11T11:21:19.904116Z",
     "iopub.status.busy": "2022-05-11T11:21:19.903943Z",
     "iopub.status.idle": "2022-05-11T11:21:29.307279Z",
     "shell.execute_reply": "2022-05-11T11:21:29.306630Z",
     "shell.execute_reply.started": "2022-05-11T11:21:19.904093Z"
    },
    "tags": []
   },
   "outputs": [],
   "source": [
    "df = spark.read.csv(f's3a://{bucket}/{file}', header=True)"
   ]
  },
  {
   "cell_type": "markdown",
   "id": "e807f692-dc0f-4eba-ab00-231cebb1be81",
   "metadata": {},
   "source": [
    "# Checking data"
   ]
  },
  {
   "cell_type": "code",
   "execution_count": 49,
   "id": "3ca526c9-78a1-428e-91bc-5184c8f7dd5e",
   "metadata": {
    "execution": {
     "iopub.execute_input": "2022-05-11T11:21:29.312230Z",
     "iopub.status.busy": "2022-05-11T11:21:29.312050Z",
     "iopub.status.idle": "2022-05-11T11:21:30.087445Z",
     "shell.execute_reply": "2022-05-11T11:21:30.086730Z",
     "shell.execute_reply.started": "2022-05-11T11:21:29.312206Z"
    },
    "tags": []
   },
   "outputs": [
    {
     "name": "stdout",
     "output_type": "stream",
     "text": [
      "+-------------+--------------------+--------------------+------+------------+------------+------------+-----------------+-------+-----------------+----------+-----------------+--------------------+-------------------+----------+\n",
      "|    Job Title|     Salary Estimate|     Job Description|Rating|Company Name|    Location|Headquarters|             Size|Founded|Type of ownership|  Industry|           Sector|             Revenue|        Competitors|Easy Apply|\n",
      "+-------------+--------------------+--------------------+------+------------+------------+------------+-----------------+-------+-----------------+----------+-----------------+--------------------+-------------------+----------+\n",
      "|Data Engineer|$80K-$150K (Glass...|Company Descripti...|   4.5| Sagence 4.5|New York, NY| Chicago, IL|1 to 50 employees|   2009|Company - Private|Consulting|Business Services|$10 to $25 millio...|WCI Consulting, PwC|        -1|\n",
      "+-------------+--------------------+--------------------+------+------------+------------+------------+-----------------+-------+-----------------+----------+-----------------+--------------------+-------------------+----------+\n",
      "\n"
     ]
    }
   ],
   "source": [
    "df.limit(1).show()"
   ]
  },
  {
   "cell_type": "code",
   "execution_count": 50,
   "id": "e4822885-d93e-4821-95e9-9a2cd47b161b",
   "metadata": {
    "execution": {
     "iopub.execute_input": "2022-05-11T11:21:30.088855Z",
     "iopub.status.busy": "2022-05-11T11:21:30.088589Z",
     "iopub.status.idle": "2022-05-11T11:21:30.158258Z",
     "shell.execute_reply": "2022-05-11T11:21:30.157453Z",
     "shell.execute_reply.started": "2022-05-11T11:21:30.088819Z"
    },
    "tags": []
   },
   "outputs": [
    {
     "name": "stdout",
     "output_type": "stream",
     "text": [
      "root\n",
      " |-- Job Title: string (nullable = true)\n",
      " |-- Salary Estimate: string (nullable = true)\n",
      " |-- Job Description: string (nullable = true)\n",
      " |-- Rating: string (nullable = true)\n",
      " |-- Company Name: string (nullable = true)\n",
      " |-- Location: string (nullable = true)\n",
      " |-- Headquarters: string (nullable = true)\n",
      " |-- Size: string (nullable = true)\n",
      " |-- Founded: string (nullable = true)\n",
      " |-- Type of ownership: string (nullable = true)\n",
      " |-- Industry: string (nullable = true)\n",
      " |-- Sector: string (nullable = true)\n",
      " |-- Revenue: string (nullable = true)\n",
      " |-- Competitors: string (nullable = true)\n",
      " |-- Easy Apply: string (nullable = true)\n",
      "\n"
     ]
    }
   ],
   "source": [
    "df.printSchema()"
   ]
  },
  {
   "cell_type": "code",
   "execution_count": 51,
   "id": "f4868043-fe19-453e-9e6c-4ef2dd348794",
   "metadata": {
    "execution": {
     "iopub.execute_input": "2022-05-11T11:21:30.160484Z",
     "iopub.status.busy": "2022-05-11T11:21:30.160230Z",
     "iopub.status.idle": "2022-05-11T11:21:33.479033Z",
     "shell.execute_reply": "2022-05-11T11:21:33.478089Z",
     "shell.execute_reply.started": "2022-05-11T11:21:30.160450Z"
    },
    "tags": []
   },
   "outputs": [
    {
     "data": {
      "text/plain": [
       "2528"
      ]
     },
     "execution_count": 51,
     "metadata": {},
     "output_type": "execute_result"
    }
   ],
   "source": [
    "df.count()"
   ]
  },
  {
   "cell_type": "markdown",
   "id": "5ed6a7f5-2db8-4fd9-97a5-fb90a23248b0",
   "metadata": {},
   "source": [
    "# Drop unnecessary columns"
   ]
  },
  {
   "cell_type": "code",
   "execution_count": 52,
   "id": "98782b50-75a7-4f9e-b14f-15b7663ca46f",
   "metadata": {
    "execution": {
     "iopub.execute_input": "2022-05-11T11:21:33.481033Z",
     "iopub.status.busy": "2022-05-11T11:21:33.480770Z",
     "iopub.status.idle": "2022-05-11T11:21:33.747353Z",
     "shell.execute_reply": "2022-05-11T11:21:33.746510Z",
     "shell.execute_reply.started": "2022-05-11T11:21:33.480995Z"
    },
    "tags": []
   },
   "outputs": [],
   "source": [
    "df = df.drop('Size') \\\n",
    "        .drop('Type of ownership') \\\n",
    "        .drop('Job Description') \\\n",
    "        .drop('Revenue') \\\n",
    "        .drop('Competitors') \\\n",
    "        .drop('Easy Apply') \\\n",
    "        .drop('Sector')"
   ]
  },
  {
   "cell_type": "code",
   "execution_count": 53,
   "id": "785477a2-1443-4bc1-98ae-83463f2cd80e",
   "metadata": {
    "execution": {
     "iopub.execute_input": "2022-05-11T11:21:33.748737Z",
     "iopub.status.busy": "2022-05-11T11:21:33.748482Z",
     "iopub.status.idle": "2022-05-11T11:21:34.563829Z",
     "shell.execute_reply": "2022-05-11T11:21:34.563170Z",
     "shell.execute_reply.started": "2022-05-11T11:21:33.748700Z"
    },
    "tags": []
   },
   "outputs": [
    {
     "name": "stdout",
     "output_type": "stream",
     "text": [
      "+-------------+--------------------+------+------------+------------+------------+-------+----------+\n",
      "|    Job Title|     Salary Estimate|Rating|Company Name|    Location|Headquarters|Founded|  Industry|\n",
      "+-------------+--------------------+------+------------+------------+------------+-------+----------+\n",
      "|Data Engineer|$80K-$150K (Glass...|   4.5| Sagence 4.5|New York, NY| Chicago, IL|   2009|Consulting|\n",
      "+-------------+--------------------+------+------------+------------+------------+-------+----------+\n",
      "\n"
     ]
    }
   ],
   "source": [
    "df.limit(1).show()"
   ]
  },
  {
   "cell_type": "markdown",
   "id": "ee1c84ed-b3dd-4a6d-8d52-f19436dd433d",
   "metadata": {},
   "source": [
    "# Rename columns to lowercase and replace white space to underscore"
   ]
  },
  {
   "cell_type": "code",
   "execution_count": 54,
   "id": "9706badf-ce77-45c9-aa56-80a73c7e721d",
   "metadata": {
    "execution": {
     "iopub.execute_input": "2022-05-11T11:21:34.564955Z",
     "iopub.status.busy": "2022-05-11T11:21:34.564787Z",
     "iopub.status.idle": "2022-05-11T11:21:34.838617Z",
     "shell.execute_reply": "2022-05-11T11:21:34.837796Z",
     "shell.execute_reply.started": "2022-05-11T11:21:34.564934Z"
    },
    "tags": []
   },
   "outputs": [],
   "source": [
    "df = df.toDF(*(c.replace(' ', '_').lower() for c in df.columns))"
   ]
  },
  {
   "cell_type": "code",
   "execution_count": 55,
   "id": "944a1711-fdb5-4bff-8ea6-b3f68b465c83",
   "metadata": {
    "execution": {
     "iopub.execute_input": "2022-05-11T11:21:34.840132Z",
     "iopub.status.busy": "2022-05-11T11:21:34.839857Z",
     "iopub.status.idle": "2022-05-11T11:21:35.637498Z",
     "shell.execute_reply": "2022-05-11T11:21:35.636885Z",
     "shell.execute_reply.started": "2022-05-11T11:21:34.840081Z"
    },
    "tags": []
   },
   "outputs": [
    {
     "name": "stdout",
     "output_type": "stream",
     "text": [
      "+-------------+--------------------+------+------------+------------+------------+-------+----------+\n",
      "|    job_title|     salary_estimate|rating|company_name|    location|headquarters|founded|  industry|\n",
      "+-------------+--------------------+------+------------+------------+------------+-------+----------+\n",
      "|Data Engineer|$80K-$150K (Glass...|   4.5| Sagence 4.5|New York, NY| Chicago, IL|   2009|Consulting|\n",
      "+-------------+--------------------+------+------------+------------+------------+-------+----------+\n",
      "\n"
     ]
    }
   ],
   "source": [
    "df.limit(1).show()"
   ]
  },
  {
   "cell_type": "markdown",
   "id": "d032be64-d044-464e-b06e-0164bc2dd225",
   "metadata": {},
   "source": [
    "# Split city and state code from location, headquarters\n",
    "* some values in headquarters column are country, it's fine we can use that for analysis too"
   ]
  },
  {
   "cell_type": "code",
   "execution_count": 56,
   "id": "fdbc9d3f-41e7-40df-bbb3-d981f7d8aac2",
   "metadata": {
    "execution": {
     "iopub.execute_input": "2022-05-11T11:21:35.638593Z",
     "iopub.status.busy": "2022-05-11T11:21:35.638419Z",
     "iopub.status.idle": "2022-05-11T11:21:35.912749Z",
     "shell.execute_reply": "2022-05-11T11:21:35.912056Z",
     "shell.execute_reply.started": "2022-05-11T11:21:35.638571Z"
    },
    "tags": []
   },
   "outputs": [],
   "source": [
    "df = df.withColumn('location_city', split(df['location'], ',').getItem(0)) \\\n",
    "                .withColumn('location_state', split(df['location'], ',').getItem(1)) \\\n",
    "                .withColumn('hq_city', split(df['headquarters'], ',').getItem(0)) \\\n",
    "                .withColumn('hq_state', split(df['headquarters'], ',').getItem(1)) \\\n",
    "                .drop('location', 'headquarters')"
   ]
  },
  {
   "cell_type": "code",
   "execution_count": 57,
   "id": "d2c450ab-0742-4e25-994f-dae23a4d356e",
   "metadata": {
    "execution": {
     "iopub.execute_input": "2022-05-11T11:21:35.914337Z",
     "iopub.status.busy": "2022-05-11T11:21:35.913821Z",
     "iopub.status.idle": "2022-05-11T11:21:36.719555Z",
     "shell.execute_reply": "2022-05-11T11:21:36.718882Z",
     "shell.execute_reply.started": "2022-05-11T11:21:35.914299Z"
    },
    "tags": []
   },
   "outputs": [
    {
     "name": "stdout",
     "output_type": "stream",
     "text": [
      "+-------------+--------------------+------+------------+-------+----------+-------------+--------------+-------+--------+\n",
      "|    job_title|     salary_estimate|rating|company_name|founded|  industry|location_city|location_state|hq_city|hq_state|\n",
      "+-------------+--------------------+------+------------+-------+----------+-------------+--------------+-------+--------+\n",
      "|Data Engineer|$80K-$150K (Glass...|   4.5| Sagence 4.5|   2009|Consulting|     New York|            NY|Chicago|      IL|\n",
      "+-------------+--------------------+------+------------+-------+----------+-------------+--------------+-------+--------+\n",
      "\n"
     ]
    }
   ],
   "source": [
    "df.limit(1).show()"
   ]
  },
  {
   "cell_type": "markdown",
   "id": "8d7ec074-8b50-4a3b-a716-6ca5ba47fef6",
   "metadata": {},
   "source": [
    "# Rework salary_estimate column"
   ]
  },
  {
   "cell_type": "code",
   "execution_count": 58,
   "id": "14e89fdb-21d4-483c-ba4c-d67b3da35744",
   "metadata": {
    "execution": {
     "iopub.execute_input": "2022-05-11T11:21:36.720686Z",
     "iopub.status.busy": "2022-05-11T11:21:36.720508Z",
     "iopub.status.idle": "2022-05-11T11:21:36.997167Z",
     "shell.execute_reply": "2022-05-11T11:21:36.996298Z",
     "shell.execute_reply.started": "2022-05-11T11:21:36.720662Z"
    },
    "tags": []
   },
   "outputs": [],
   "source": [
    "df = df.withColumn('salary_estimate', regexp_replace('salary_estimate', '[$a-jl-zA-JL-Z.()]', '')) \\\n",
    "                .withColumn('salary_min', split('salary_estimate', '-').getItem(0)) \\\n",
    "                .withColumn('salary_min', regexp_replace('salary_min', 'K', '000')) \\\n",
    "                .withColumn('salary_max', split('salary_estimate', '-').getItem(1)) \\\n",
    "                .withColumn('salary_max', regexp_replace('salary_max', 'K', '000')) \\\n",
    "                .withColumn('salary_max', regexp_replace('salary_max', ' ', '')) \\\n",
    "                .drop('salary_estimate')"
   ]
  },
  {
   "cell_type": "code",
   "execution_count": 59,
   "id": "fa96dc23-f41d-4221-aaf4-df4d220232d2",
   "metadata": {
    "execution": {
     "iopub.execute_input": "2022-05-11T11:39:00.303806Z",
     "iopub.status.busy": "2022-05-11T11:39:00.303577Z",
     "iopub.status.idle": "2022-05-11T11:39:00.585677Z",
     "shell.execute_reply": "2022-05-11T11:39:00.584847Z",
     "shell.execute_reply.started": "2022-05-11T11:39:00.303780Z"
    },
    "tags": []
   },
   "outputs": [],
   "source": [
    "df = df.withColumn('salary_min', df.salary_min.cast('int')) \\\n",
    "                .withColumn('salary_max', df.salary_max.cast('int')) \\\n",
    "                .withColumn('rating', df.rating.cast('float')) \\\n",
    "                .withColumn('founded', df.founded.cast('int'))"
   ]
  },
  {
   "cell_type": "code",
   "execution_count": 60,
   "id": "42e3edcc-7204-4e70-9e70-de8f16f6f0fb",
   "metadata": {
    "execution": {
     "iopub.execute_input": "2022-05-11T11:39:02.373783Z",
     "iopub.status.busy": "2022-05-11T11:39:02.373555Z",
     "iopub.status.idle": "2022-05-11T11:39:03.155039Z",
     "shell.execute_reply": "2022-05-11T11:39:03.154272Z",
     "shell.execute_reply.started": "2022-05-11T11:39:02.373758Z"
    },
    "tags": []
   },
   "outputs": [
    {
     "name": "stdout",
     "output_type": "stream",
     "text": [
      "+-------------+------+------------+-------+----------+-------------+--------------+-------+--------+----------+----------+\n",
      "|    job_title|rating|company_name|founded|  industry|location_city|location_state|hq_city|hq_state|salary_min|salary_max|\n",
      "+-------------+------+------------+-------+----------+-------------+--------------+-------+--------+----------+----------+\n",
      "|Data Engineer|   4.5| Sagence 4.5|   2009|Consulting|     New York|            NY|Chicago|      IL|     80000|    150000|\n",
      "+-------------+------+------------+-------+----------+-------------+--------------+-------+--------+----------+----------+\n",
      "\n"
     ]
    }
   ],
   "source": [
    "df.limit(1).show()"
   ]
  },
  {
   "cell_type": "code",
   "execution_count": 61,
   "id": "ca841fe4-138a-4c61-a1b2-82a9f0db27dd",
   "metadata": {
    "execution": {
     "iopub.execute_input": "2022-05-11T11:08:00.500441Z",
     "iopub.status.busy": "2022-05-11T11:08:00.499810Z",
     "iopub.status.idle": "2022-05-11T11:08:00.601528Z",
     "shell.execute_reply": "2022-05-11T11:08:00.600771Z",
     "shell.execute_reply.started": "2022-05-11T11:08:00.500397Z"
    },
    "scrolled": true,
    "tags": []
   },
   "outputs": [
    {
     "name": "stdout",
     "output_type": "stream",
     "text": [
      "root\n",
      " |-- job_title: string (nullable = true)\n",
      " |-- rating: float (nullable = true)\n",
      " |-- company_name: string (nullable = true)\n",
      " |-- founded: integer (nullable = true)\n",
      " |-- industry: string (nullable = true)\n",
      " |-- location_city: string (nullable = true)\n",
      " |-- location_state: string (nullable = true)\n",
      " |-- hq_city: string (nullable = true)\n",
      " |-- hq_state: string (nullable = true)\n",
      " |-- salary_min: integer (nullable = true)\n",
      " |-- salary_max: integer (nullable = true)\n",
      "\n"
     ]
    }
   ],
   "source": [
    "df.printSchema()"
   ]
  },
  {
   "cell_type": "markdown",
   "id": "09e5eb32",
   "metadata": {},
   "source": [
    "# Remove rating from company_name column (last 4 characters)"
   ]
  },
  {
   "cell_type": "code",
   "execution_count": 62,
   "id": "78da75cb-586a-42b2-a7aa-de1d4288cb0e",
   "metadata": {
    "execution": {
     "iopub.execute_input": "2022-05-11T11:37:20.960027Z",
     "iopub.status.busy": "2022-05-11T11:37:20.959796Z",
     "iopub.status.idle": "2022-05-11T11:37:21.734698Z",
     "shell.execute_reply": "2022-05-11T11:37:21.733936Z",
     "shell.execute_reply.started": "2022-05-11T11:37:20.960002Z"
    },
    "tags": []
   },
   "outputs": [],
   "source": [
    "df = df.withColumn('company_name',expr('substring(company_name, 1, length(company_name)-4)'))"
   ]
  },
  {
   "cell_type": "code",
   "execution_count": 63,
   "id": "ddac870d-a967-4f4d-8928-844923f555a6",
   "metadata": {
    "execution": {
     "iopub.execute_input": "2022-05-11T11:38:17.162398Z",
     "iopub.status.busy": "2022-05-11T11:38:17.162162Z",
     "iopub.status.idle": "2022-05-11T11:38:17.950588Z",
     "shell.execute_reply": "2022-05-11T11:38:17.949972Z",
     "shell.execute_reply.started": "2022-05-11T11:38:17.162374Z"
    },
    "tags": []
   },
   "outputs": [
    {
     "name": "stdout",
     "output_type": "stream",
     "text": [
      "+-------------+------+------------+-------+----------+-------------+--------------+-------+--------+----------+----------+\n",
      "|    job_title|rating|company_name|founded|  industry|location_city|location_state|hq_city|hq_state|salary_min|salary_max|\n",
      "+-------------+------+------------+-------+----------+-------------+--------------+-------+--------+----------+----------+\n",
      "|Data Engineer|   4.5|     Sagence|   2009|Consulting|     New York|            NY|Chicago|      IL|     80000|    150000|\n",
      "+-------------+------+------------+-------+----------+-------------+--------------+-------+--------+----------+----------+\n",
      "\n"
     ]
    }
   ],
   "source": [
    "df.limit(1).show()"
   ]
  },
  {
   "cell_type": "markdown",
   "id": "941f833e-9ea2-4253-b7fd-53bc111c6a37",
   "metadata": {},
   "source": [
    "# Reorder columns"
   ]
  },
  {
   "cell_type": "code",
   "execution_count": 64,
   "id": "8aaf69bd-7038-4a0a-854b-d07f500f023d",
   "metadata": {
    "execution": {
     "iopub.execute_input": "2022-05-11T11:39:10.839630Z",
     "iopub.status.busy": "2022-05-11T11:39:10.839400Z",
     "iopub.status.idle": "2022-05-11T11:39:11.122650Z",
     "shell.execute_reply": "2022-05-11T11:39:11.121603Z",
     "shell.execute_reply.started": "2022-05-11T11:39:10.839606Z"
    },
    "tags": []
   },
   "outputs": [],
   "source": [
    "df = df.select('job_title', 'salary_min', 'salary_max', 'company_name', 'rating', 'location_city', 'location_state', \\\n",
    "                      'hq_city', 'hq_state', 'founded', 'industry')"
   ]
  },
  {
   "cell_type": "code",
   "execution_count": 65,
   "id": "d1134c6e-7a8c-4212-8f5e-fdcd923346c2",
   "metadata": {
    "execution": {
     "iopub.execute_input": "2022-05-11T11:39:11.587178Z",
     "iopub.status.busy": "2022-05-11T11:39:11.586822Z",
     "iopub.status.idle": "2022-05-11T11:39:11.659656Z",
     "shell.execute_reply": "2022-05-11T11:39:11.658774Z",
     "shell.execute_reply.started": "2022-05-11T11:39:11.587134Z"
    },
    "tags": []
   },
   "outputs": [
    {
     "name": "stdout",
     "output_type": "stream",
     "text": [
      "root\n",
      " |-- job_title: string (nullable = true)\n",
      " |-- salary_min: integer (nullable = true)\n",
      " |-- salary_max: integer (nullable = true)\n",
      " |-- company_name: string (nullable = true)\n",
      " |-- rating: float (nullable = true)\n",
      " |-- location_city: string (nullable = true)\n",
      " |-- location_state: string (nullable = true)\n",
      " |-- hq_city: string (nullable = true)\n",
      " |-- hq_state: string (nullable = true)\n",
      " |-- founded: integer (nullable = true)\n",
      " |-- industry: string (nullable = true)\n",
      "\n"
     ]
    }
   ],
   "source": [
    "df.printSchema()"
   ]
  },
  {
   "cell_type": "markdown",
   "id": "4992fb13-78f5-4744-9b4f-05dc31c4eab9",
   "metadata": {},
   "source": [
    "# Check and remove Null values"
   ]
  },
  {
   "cell_type": "code",
   "execution_count": 66,
   "id": "1d5fd5df-3787-462d-bf4a-14409bcda631",
   "metadata": {
    "execution": {
     "iopub.execute_input": "2022-05-11T11:39:25.439260Z",
     "iopub.status.busy": "2022-05-11T11:39:25.439018Z",
     "iopub.status.idle": "2022-05-11T11:39:26.232613Z",
     "shell.execute_reply": "2022-05-11T11:39:26.232001Z",
     "shell.execute_reply.started": "2022-05-11T11:39:25.439234Z"
    },
    "tags": []
   },
   "outputs": [
    {
     "data": {
      "text/plain": [
       "2528"
      ]
     },
     "execution_count": 66,
     "metadata": {},
     "output_type": "execute_result"
    }
   ],
   "source": [
    "df.count()"
   ]
  },
  {
   "cell_type": "code",
   "execution_count": 67,
   "id": "046ccb13-23c2-4c9c-9b8b-0297c63a60d8",
   "metadata": {
    "execution": {
     "iopub.execute_input": "2022-05-11T11:39:46.302270Z",
     "iopub.status.busy": "2022-05-11T11:39:46.302038Z",
     "iopub.status.idle": "2022-05-11T11:39:46.572499Z",
     "shell.execute_reply": "2022-05-11T11:39:46.571662Z",
     "shell.execute_reply.started": "2022-05-11T11:39:46.302245Z"
    },
    "tags": []
   },
   "outputs": [],
   "source": [
    "df = df.filter('job_title IS NOT NULL AND \\\n",
    "                salary_min IS NOT NULL AND \\\n",
    "                salary_max IS NOT NULL AND \\\n",
    "                company_name IS NOT NULL AND \\\n",
    "                rating IS NOT NULL AND \\\n",
    "                location_city IS NOT NULL AND \\\n",
    "                location_state IS NOT NULL AND \\\n",
    "                hq_city IS NOT NULL AND \\\n",
    "                hq_state IS NOT NULL AND \\\n",
    "                founded IS NOT NULL AND \\\n",
    "                industry IS NOT NULL')"
   ]
  },
  {
   "cell_type": "code",
   "execution_count": 68,
   "id": "7e6cecf2-6eb8-4825-9515-346f3587e5ba",
   "metadata": {
    "execution": {
     "iopub.execute_input": "2022-05-11T11:54:38.679475Z",
     "iopub.status.busy": "2022-05-11T11:54:38.679247Z",
     "iopub.status.idle": "2022-05-11T11:54:50.018026Z",
     "shell.execute_reply": "2022-05-11T11:54:50.017148Z",
     "shell.execute_reply.started": "2022-05-11T11:54:38.679450Z"
    },
    "tags": []
   },
   "outputs": [
    {
     "data": {
      "text/plain": [
       "2183"
      ]
     },
     "execution_count": 68,
     "metadata": {},
     "output_type": "execute_result"
    }
   ],
   "source": [
    "df.count()"
   ]
  },
  {
   "cell_type": "markdown",
   "id": "6feb4ef3-b682-4aca-9100-c8c5d343e79d",
   "metadata": {},
   "source": [
    "# Remove invalid values in columns (values are -1)"
   ]
  },
  {
   "cell_type": "code",
   "execution_count": 69,
   "id": "d7cca84d-f24b-4c7e-bb47-d2888323dfac",
   "metadata": {
    "execution": {
     "iopub.execute_input": "2022-05-11T12:00:39.766296Z",
     "iopub.status.busy": "2022-05-11T12:00:39.766068Z",
     "iopub.status.idle": "2022-05-11T12:00:40.031313Z",
     "shell.execute_reply": "2022-05-11T12:00:40.030561Z",
     "shell.execute_reply.started": "2022-05-11T12:00:39.766271Z"
    },
    "tags": []
   },
   "outputs": [],
   "source": [
    "df = df.filter(df.job_title != '-1')\n",
    "df = df.filter(df.salary_min != -1)\n",
    "df = df.filter(df.salary_max != -1)\n",
    "df = df.filter(df.company_name != '-1')\n",
    "df = df.filter(df.rating != -1.0)\n",
    "df = df.filter(df.location_city != '-1')\n",
    "df = df.filter(df.location_state != '-1')\n",
    "df = df.filter(df.hq_city != '-1')\n",
    "df = df.filter(df.hq_state != '-1')\n",
    "df = df.filter(df.founded != -1)\n",
    "df = df.filter(df.industry != '-1')"
   ]
  },
  {
   "cell_type": "code",
   "execution_count": 70,
   "id": "354ea8ab-2bca-460a-9672-18077963e77e",
   "metadata": {
    "execution": {
     "iopub.execute_input": "2022-05-11T12:00:42.525047Z",
     "iopub.status.busy": "2022-05-11T12:00:42.524820Z",
     "iopub.status.idle": "2022-05-11T12:00:43.803037Z",
     "shell.execute_reply": "2022-05-11T12:00:43.802173Z",
     "shell.execute_reply.started": "2022-05-11T12:00:42.525021Z"
    },
    "tags": []
   },
   "outputs": [
    {
     "data": {
      "text/plain": [
       "1713"
      ]
     },
     "execution_count": 70,
     "metadata": {},
     "output_type": "execute_result"
    }
   ],
   "source": [
    "df.count()"
   ]
  },
  {
   "cell_type": "code",
   "execution_count": 71,
   "id": "a41ca084-f2c2-497f-84b1-d85cf5b27c2d",
   "metadata": {
    "execution": {
     "iopub.execute_input": "2022-05-11T12:00:59.414020Z",
     "iopub.status.busy": "2022-05-11T12:00:59.413725Z",
     "iopub.status.idle": "2022-05-11T12:01:00.200706Z",
     "shell.execute_reply": "2022-05-11T12:01:00.199885Z",
     "shell.execute_reply.started": "2022-05-11T12:00:59.413969Z"
    },
    "tags": []
   },
   "outputs": [
    {
     "data": {
      "text/html": [
       "<div>\n",
       "<style scoped>\n",
       "    .dataframe tbody tr th:only-of-type {\n",
       "        vertical-align: middle;\n",
       "    }\n",
       "\n",
       "    .dataframe tbody tr th {\n",
       "        vertical-align: top;\n",
       "    }\n",
       "\n",
       "    .dataframe thead th {\n",
       "        text-align: right;\n",
       "    }\n",
       "</style>\n",
       "<table border=\"1\" class=\"dataframe\">\n",
       "  <thead>\n",
       "    <tr style=\"text-align: right;\">\n",
       "      <th></th>\n",
       "      <th>job_title</th>\n",
       "      <th>salary_min</th>\n",
       "      <th>salary_max</th>\n",
       "      <th>company_name</th>\n",
       "      <th>rating</th>\n",
       "      <th>location_city</th>\n",
       "      <th>location_state</th>\n",
       "      <th>hq_city</th>\n",
       "      <th>hq_state</th>\n",
       "      <th>founded</th>\n",
       "      <th>industry</th>\n",
       "    </tr>\n",
       "  </thead>\n",
       "  <tbody>\n",
       "    <tr>\n",
       "      <th>0</th>\n",
       "      <td>Data Engineer</td>\n",
       "      <td>80000</td>\n",
       "      <td>150000</td>\n",
       "      <td>Sagence</td>\n",
       "      <td>4.5</td>\n",
       "      <td>New York</td>\n",
       "      <td>NY</td>\n",
       "      <td>Chicago</td>\n",
       "      <td>IL</td>\n",
       "      <td>2009</td>\n",
       "      <td>Consulting</td>\n",
       "    </tr>\n",
       "    <tr>\n",
       "      <th>1</th>\n",
       "      <td>Senior Data Engineer (Healthcare Domain experi...</td>\n",
       "      <td>80000</td>\n",
       "      <td>150000</td>\n",
       "      <td>Enterprise Integration</td>\n",
       "      <td>3.4</td>\n",
       "      <td>New York</td>\n",
       "      <td>NY</td>\n",
       "      <td>Jacksonville</td>\n",
       "      <td>FL</td>\n",
       "      <td>1998</td>\n",
       "      <td>IT Services</td>\n",
       "    </tr>\n",
       "    <tr>\n",
       "      <th>2</th>\n",
       "      <td>Data Engineers</td>\n",
       "      <td>80000</td>\n",
       "      <td>150000</td>\n",
       "      <td>Maestro Technologies</td>\n",
       "      <td>5.0</td>\n",
       "      <td>New York</td>\n",
       "      <td>NY</td>\n",
       "      <td>Trenton</td>\n",
       "      <td>NJ</td>\n",
       "      <td>2003</td>\n",
       "      <td>IT Services</td>\n",
       "    </tr>\n",
       "    <tr>\n",
       "      <th>3</th>\n",
       "      <td>Client Trade Support Engineer</td>\n",
       "      <td>80000</td>\n",
       "      <td>150000</td>\n",
       "      <td>Jane Street</td>\n",
       "      <td>4.8</td>\n",
       "      <td>New York</td>\n",
       "      <td>NY</td>\n",
       "      <td>New York</td>\n",
       "      <td>NY</td>\n",
       "      <td>2000</td>\n",
       "      <td>Investment Banking &amp; Asset Management</td>\n",
       "    </tr>\n",
       "    <tr>\n",
       "      <th>4</th>\n",
       "      <td>Operations Engineer</td>\n",
       "      <td>80000</td>\n",
       "      <td>150000</td>\n",
       "      <td>Oscar Health</td>\n",
       "      <td>3.7</td>\n",
       "      <td>New York</td>\n",
       "      <td>NY</td>\n",
       "      <td>New York</td>\n",
       "      <td>NY</td>\n",
       "      <td>2012</td>\n",
       "      <td>Insurance Agencies &amp; Brokerages</td>\n",
       "    </tr>\n",
       "  </tbody>\n",
       "</table>\n",
       "</div>"
      ],
      "text/plain": [
       "                                           job_title  salary_min  salary_max  \\\n",
       "0                                      Data Engineer       80000      150000   \n",
       "1  Senior Data Engineer (Healthcare Domain experi...       80000      150000   \n",
       "2                                     Data Engineers       80000      150000   \n",
       "3                      Client Trade Support Engineer       80000      150000   \n",
       "4                                Operations Engineer       80000      150000   \n",
       "\n",
       "             company_name  rating location_city location_state       hq_city  \\\n",
       "0                 Sagence     4.5      New York             NY       Chicago   \n",
       "1  Enterprise Integration     3.4      New York             NY  Jacksonville   \n",
       "2    Maestro Technologies     5.0      New York             NY       Trenton   \n",
       "3             Jane Street     4.8      New York             NY      New York   \n",
       "4            Oscar Health     3.7      New York             NY      New York   \n",
       "\n",
       "  hq_state  founded                               industry  \n",
       "0       IL     2009                             Consulting  \n",
       "1       FL     1998                            IT Services  \n",
       "2       NJ     2003                            IT Services  \n",
       "3       NY     2000  Investment Banking & Asset Management  \n",
       "4       NY     2012        Insurance Agencies & Brokerages  "
      ]
     },
     "execution_count": 71,
     "metadata": {},
     "output_type": "execute_result"
    }
   ],
   "source": [
    "df.limit(5).toPandas()"
   ]
  },
  {
   "cell_type": "markdown",
   "id": "d43d8cba-5ad0-431f-8dfb-11899e12466a",
   "metadata": {
    "tags": []
   },
   "source": [
    "# Data quality check"
   ]
  },
  {
   "cell_type": "markdown",
   "id": "ec1840d0-982b-4e38-a9d3-c5da08c8e848",
   "metadata": {},
   "source": [
    "* Check Null values"
   ]
  },
  {
   "cell_type": "code",
   "execution_count": 72,
   "id": "d2347411-1ba5-412e-95ae-e243cc31d6a2",
   "metadata": {
    "execution": {
     "iopub.execute_input": "2022-05-11T12:09:57.912389Z",
     "iopub.status.busy": "2022-05-11T12:09:57.912166Z",
     "iopub.status.idle": "2022-05-11T12:09:57.971109Z",
     "shell.execute_reply": "2022-05-11T12:09:57.970428Z",
     "shell.execute_reply.started": "2022-05-11T12:09:57.912364Z"
    },
    "tags": []
   },
   "outputs": [
    {
     "name": "stdout",
     "output_type": "stream",
     "text": [
      "['job_title', 'salary_min', 'salary_max', 'company_name', 'rating', 'location_city', 'location_state', 'hq_city', 'hq_state', 'founded', 'industry']\n"
     ]
    }
   ],
   "source": [
    "columns_list = df.columns\n",
    "print(columns_list)"
   ]
  },
  {
   "cell_type": "code",
   "execution_count": 73,
   "id": "4baaa953-a387-4131-b4b6-f0dcaf6c87e0",
   "metadata": {
    "execution": {
     "iopub.execute_input": "2022-05-11T12:01:39.923799Z",
     "iopub.status.busy": "2022-05-11T12:01:39.923509Z",
     "iopub.status.idle": "2022-05-11T12:01:52.940736Z",
     "shell.execute_reply": "2022-05-11T12:01:52.300859Z",
     "shell.execute_reply.started": "2022-05-11T12:01:39.923756Z"
    },
    "tags": []
   },
   "outputs": [
    {
     "name": "stdout",
     "output_type": "stream",
     "text": [
      "job_title column has no Null value\n",
      "salary_min column has no Null value\n",
      "salary_max column has no Null value\n",
      "company_name column has no Null value\n",
      "rating column has no Null value\n",
      "location_city column has no Null value\n",
      "location_state column has no Null value\n",
      "hq_city column has no Null value\n",
      "hq_state column has no Null value\n",
      "founded column has no Null value\n",
      "industry column has no Null value\n"
     ]
    }
   ],
   "source": [
    "for column in columns_list:\n",
    "    result = df.filter(column + ' is Null').count()\n",
    "    if result == 0:\n",
    "        print(f\"{column} column has no Null value\")\n",
    "    else:\n",
    "        print(f\"{column} column has {result} Null value.\")"
   ]
  },
  {
   "cell_type": "markdown",
   "id": "7736e900-3f7d-4655-9bfa-e5d57ccf75fb",
   "metadata": {},
   "source": [
    "* Check invalid values (-1)"
   ]
  },
  {
   "cell_type": "code",
   "execution_count": 74,
   "id": "caab2dc2-b598-4f0d-b63e-d33e24961fb9",
   "metadata": {
    "execution": {
     "iopub.execute_input": "2022-05-11T12:31:09.231812Z",
     "iopub.status.busy": "2022-05-11T12:31:09.231577Z",
     "iopub.status.idle": "2022-05-11T12:31:30.757424Z",
     "shell.execute_reply": "2022-05-11T12:31:30.741242Z",
     "shell.execute_reply.started": "2022-05-11T12:31:09.231788Z"
    },
    "scrolled": true,
    "tags": []
   },
   "outputs": [
    {
     "name": "stdout",
     "output_type": "stream",
     "text": [
      "job_title column has 0 invalid value\n",
      "salary_min column has 0 invalid value\n",
      "salary_min column has 0 invalid value\n",
      "salary_max column has 0 invalid value\n",
      "salary_max column has 0 invalid value\n",
      "company_name column has 0 invalid value\n",
      "rating column has 0 invalid value\n",
      "rating column has 0 invalid value\n",
      "location_city column has 0 invalid value\n",
      "location_state column has 0 invalid value\n",
      "hq_city column has 0 invalid value\n",
      "hq_state column has 0 invalid value\n",
      "founded column has 0 invalid value\n",
      "industry column has 0 invalid value\n"
     ]
    }
   ],
   "source": [
    "for column in columns_list:\n",
    "    if column == 'salary_min':\n",
    "        result = df.filter(f\"{column} == -1\").count()\n",
    "        print(f\"{column} column has {result} invalid value\")\n",
    "    if column == 'salary_max':\n",
    "        result = df.filter(f\"{column} == -1\").count()\n",
    "        print(f\"{column} column has {result} invalid value\")\n",
    "    if column == 'rating':\n",
    "        rresult = df.filter(f\"{column} == -1.0\").count()\n",
    "        print(f\"{column} column has {result} invalid value\")\n",
    "    if column == 'founded':\n",
    "        result = df.filter(f\"{column} == -1\").count()\n",
    "        print(f\"{column} column has {result} invalid value\")\n",
    "    else:\n",
    "        result = df.filter(f\"{column} == '-1'\").count()\n",
    "        print(f\"{column} column has {result} invalid value\")"
   ]
  },
  {
   "cell_type": "markdown",
   "id": "d7d1048b",
   "metadata": {},
   "source": [
    "# Write spark datafram to Redshift cluster that we have created."
   ]
  },
  {
   "cell_type": "markdown",
   "id": "af2f4265",
   "metadata": {},
   "source": [
    "* Read Redshift informations form aws.cfg and store in variables."
   ]
  },
  {
   "cell_type": "code",
   "execution_count": 75,
   "id": "331a9a94",
   "metadata": {},
   "outputs": [],
   "source": [
    "config = configparser.ConfigParser()\n",
    "config.read_file(open('aws.cfg'))\n",
    "\n",
    "DWH_ENDPOINT = config.get('DWH', 'DWH_ENDPOINT')\n",
    "DWH_PORT = config.get('DWH', 'DWH_PORT')\n",
    "DWH_DATABASE = config.get('DWH', 'DWH_DATABASE')\n",
    "DWH_DATABASE_USER = config.get('DWH', 'DWH_DATABASE_USER')\n",
    "DWH_DATABASE_PASSWORD = config.get('DWH', 'DWH_DATABASE_PASSWORD')"
   ]
  },
  {
   "cell_type": "markdown",
   "id": "33481d29",
   "metadata": {},
   "source": [
    "* Give table name we want to create in Redshift cluster"
   ]
  },
  {
   "cell_type": "code",
   "execution_count": 76,
   "id": "931e9431",
   "metadata": {},
   "outputs": [],
   "source": [
    "TABLE = 'de_job'"
   ]
  },
  {
   "cell_type": "markdown",
   "id": "5eac4159",
   "metadata": {},
   "source": [
    "* Write spark dataframe to Redshift cluster"
   ]
  },
  {
   "cell_type": "code",
   "execution_count": 77,
   "id": "d9db7a8a",
   "metadata": {},
   "outputs": [],
   "source": [
    "df.write \\\n",
    "    .format(\"jdbc\") \\\n",
    "    .option(\"url\", \"jdbc:redshift://\" + DWH_ENDPOINT + \":\" + DWH_PORT + \"/\" + DWH_DATABASE) \\\n",
    "    .option(\"driver\", \"com.amazon.redshift.jdbc42.Driver\") \\\n",
    "    .option(\"dbtable\", TABLE) \\\n",
    "    .option(\"user\", DWH_DATABASE_USER) \\\n",
    "    .option(\"password\", DWH_DATABASE_PASSWORD)\\\n",
    "    .save(mode='overwrite')"
   ]
  },
  {
   "cell_type": "markdown",
   "id": "f735bf2f",
   "metadata": {},
   "source": [
    "# Checking data that we have loaded into Redshift cluster"
   ]
  },
  {
   "cell_type": "code",
   "execution_count": 78,
   "id": "f20ddf77-76bd-4b9e-b24c-0cfd01dcceda",
   "metadata": {},
   "outputs": [],
   "source": [
    "df = spark.read.format(\"jdbc\") \\\n",
    "                .option(\"url\", \"jdbc:redshift://\" + DWH_ENDPOINT + \":\" + DWH_PORT + \"/\" + DWH_DATABASE) \\\n",
    "                .option(\"driver\", \"com.amazon.redshift.jdbc42.Driver\") \\\n",
    "                .option(\"dbtable\", TABLE) \\\n",
    "                .option(\"user\", DWH_DATABASE_USER) \\\n",
    "                .option(\"password\", DWH_DATABASE_PASSWORD) \\\n",
    "                .load()"
   ]
  },
  {
   "cell_type": "code",
   "execution_count": 79,
   "id": "259737fc",
   "metadata": {},
   "outputs": [
    {
     "data": {
      "text/plain": [
       "1713"
      ]
     },
     "execution_count": 79,
     "metadata": {},
     "output_type": "execute_result"
    }
   ],
   "source": [
    "df.count()"
   ]
  },
  {
   "cell_type": "code",
   "execution_count": 80,
   "id": "43facadd",
   "metadata": {},
   "outputs": [
    {
     "data": {
      "text/html": [
       "<div>\n",
       "<style scoped>\n",
       "    .dataframe tbody tr th:only-of-type {\n",
       "        vertical-align: middle;\n",
       "    }\n",
       "\n",
       "    .dataframe tbody tr th {\n",
       "        vertical-align: top;\n",
       "    }\n",
       "\n",
       "    .dataframe thead th {\n",
       "        text-align: right;\n",
       "    }\n",
       "</style>\n",
       "<table border=\"1\" class=\"dataframe\">\n",
       "  <thead>\n",
       "    <tr style=\"text-align: right;\">\n",
       "      <th></th>\n",
       "      <th>job_title</th>\n",
       "      <th>salary_min</th>\n",
       "      <th>salary_max</th>\n",
       "      <th>company_name</th>\n",
       "      <th>rating</th>\n",
       "      <th>location_city</th>\n",
       "      <th>location_state</th>\n",
       "      <th>hq_city</th>\n",
       "      <th>hq_state</th>\n",
       "      <th>founded</th>\n",
       "      <th>industry</th>\n",
       "    </tr>\n",
       "  </thead>\n",
       "  <tbody>\n",
       "    <tr>\n",
       "      <th>0</th>\n",
       "      <td>Data Engineer</td>\n",
       "      <td>80000</td>\n",
       "      <td>150000</td>\n",
       "      <td>Sagence</td>\n",
       "      <td>4.5</td>\n",
       "      <td>New York</td>\n",
       "      <td>NY</td>\n",
       "      <td>Chicago</td>\n",
       "      <td>IL</td>\n",
       "      <td>2009</td>\n",
       "      <td>Consulting</td>\n",
       "    </tr>\n",
       "    <tr>\n",
       "      <th>1</th>\n",
       "      <td>Senior Data Engineer (Healthcare Domain experi...</td>\n",
       "      <td>80000</td>\n",
       "      <td>150000</td>\n",
       "      <td>Enterprise Integration</td>\n",
       "      <td>3.4</td>\n",
       "      <td>New York</td>\n",
       "      <td>NY</td>\n",
       "      <td>Jacksonville</td>\n",
       "      <td>FL</td>\n",
       "      <td>1998</td>\n",
       "      <td>IT Services</td>\n",
       "    </tr>\n",
       "    <tr>\n",
       "      <th>2</th>\n",
       "      <td>Data Engineers</td>\n",
       "      <td>80000</td>\n",
       "      <td>150000</td>\n",
       "      <td>Maestro Technologies</td>\n",
       "      <td>5.0</td>\n",
       "      <td>New York</td>\n",
       "      <td>NY</td>\n",
       "      <td>Trenton</td>\n",
       "      <td>NJ</td>\n",
       "      <td>2003</td>\n",
       "      <td>IT Services</td>\n",
       "    </tr>\n",
       "    <tr>\n",
       "      <th>3</th>\n",
       "      <td>Client Trade Support Engineer</td>\n",
       "      <td>80000</td>\n",
       "      <td>150000</td>\n",
       "      <td>Jane Street</td>\n",
       "      <td>4.8</td>\n",
       "      <td>New York</td>\n",
       "      <td>NY</td>\n",
       "      <td>New York</td>\n",
       "      <td>NY</td>\n",
       "      <td>2000</td>\n",
       "      <td>Investment Banking &amp; Asset Management</td>\n",
       "    </tr>\n",
       "    <tr>\n",
       "      <th>4</th>\n",
       "      <td>Operations Engineer</td>\n",
       "      <td>80000</td>\n",
       "      <td>150000</td>\n",
       "      <td>Oscar Health</td>\n",
       "      <td>3.7</td>\n",
       "      <td>New York</td>\n",
       "      <td>NY</td>\n",
       "      <td>New York</td>\n",
       "      <td>NY</td>\n",
       "      <td>2012</td>\n",
       "      <td>Insurance Agencies &amp; Brokerages</td>\n",
       "    </tr>\n",
       "  </tbody>\n",
       "</table>\n",
       "</div>"
      ],
      "text/plain": [
       "                                           job_title  salary_min  salary_max  \\\n",
       "0                                      Data Engineer       80000      150000   \n",
       "1  Senior Data Engineer (Healthcare Domain experi...       80000      150000   \n",
       "2                                     Data Engineers       80000      150000   \n",
       "3                      Client Trade Support Engineer       80000      150000   \n",
       "4                                Operations Engineer       80000      150000   \n",
       "\n",
       "             company_name  rating location_city location_state       hq_city  \\\n",
       "0                 Sagence     4.5      New York             NY       Chicago   \n",
       "1  Enterprise Integration     3.4      New York             NY  Jacksonville   \n",
       "2    Maestro Technologies     5.0      New York             NY       Trenton   \n",
       "3             Jane Street     4.8      New York             NY      New York   \n",
       "4            Oscar Health     3.7      New York             NY      New York   \n",
       "\n",
       "  hq_state  founded                               industry  \n",
       "0       IL     2009                             Consulting  \n",
       "1       FL     1998                            IT Services  \n",
       "2       NJ     2003                            IT Services  \n",
       "3       NY     2000  Investment Banking & Asset Management  \n",
       "4       NY     2012        Insurance Agencies & Brokerages  "
      ]
     },
     "execution_count": 80,
     "metadata": {},
     "output_type": "execute_result"
    }
   ],
   "source": [
    "df.limit(5).toPandas()"
   ]
  },
  {
   "cell_type": "code",
   "execution_count": null,
   "id": "c8082591",
   "metadata": {},
   "outputs": [],
   "source": []
  }
 ],
 "metadata": {
  "kernelspec": {
   "display_name": "Python 3 (ipykernel)",
   "language": "python",
   "name": "python3"
  },
  "language_info": {
   "codemirror_mode": {
    "name": "ipython",
    "version": 3
   },
   "file_extension": ".py",
   "mimetype": "text/x-python",
   "name": "python",
   "nbconvert_exporter": "python",
   "pygments_lexer": "ipython3",
   "version": "3.9.7"
  }
 },
 "nbformat": 4,
 "nbformat_minor": 5
}
